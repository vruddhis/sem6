{
  "nbformat": 4,
  "nbformat_minor": 0,
  "metadata": {
    "colab": {
      "provenance": [],
      "authorship_tag": "ABX9TyNZTxxfZhbiFWq5HrL3xN4a",
      "include_colab_link": true
    },
    "kernelspec": {
      "name": "python3",
      "display_name": "Python 3"
    },
    "language_info": {
      "name": "python"
    }
  },
  "cells": [
    {
      "cell_type": "markdown",
      "metadata": {
        "id": "view-in-github",
        "colab_type": "text"
      },
      "source": [
        "<a href=\"https://colab.research.google.com/github/vruddhis/sem6/blob/main/ml/pca.ipynb\" target=\"_parent\"><img src=\"https://colab.research.google.com/assets/colab-badge.svg\" alt=\"Open In Colab\"/></a>"
      ]
    },
    {
      "cell_type": "code",
      "execution_count": 1,
      "metadata": {
        "id": "H508vQKAbCEA"
      },
      "outputs": [],
      "source": [
        "import numpy as np\n",
        "\n",
        "def center_data(X):\n",
        "  mean = np.mean(X, axis=0)\n",
        "  centered_X = X - mean\n",
        "  return centered_X\n",
        "\n",
        "def covariance_matrix_centered(X):\n",
        "\n",
        "  N = X.shape[0]  # number of samples\n",
        "  covariance = np.dot(X.T, X) / N\n",
        "  return covariance\n",
        "\n",
        "import numpy as np\n",
        "\n",
        "def find_eigenvalues_and_eigenvectors(matrix):\n",
        "  eigenvalues, eigenvectors = np.linalg.eig(matrix)\n",
        "  return eigenvalues, eigenvectors\n",
        "\n"
      ]
    },
    {
      "cell_type": "code",
      "source": [
        "import numpy as np\n",
        "\n",
        "def pca(X, n_components):\n",
        "  centered_X = center_data(X)\n",
        "  covariance_matrix = covariance_matrix_centered(centered_X)\n",
        "  eigenvalues, eigenvectors = find_eigenvalues_and_eigenvectors(covariance_matrix)\n",
        "\n",
        "  sorted_indices = np.argsort(eigenvalues)[::-1]\n",
        "  eigenvalues = eigenvalues[sorted_indices]\n",
        "  eigenvectors = eigenvectors[:, sorted_indices]\n",
        "\n",
        "  principal_components = eigenvectors[:, :n_components]\n",
        "  transformed_data = np.dot(centered_X, principal_components)\n",
        "\n",
        "  return transformed_data, principal_components, eigenvalues"
      ],
      "metadata": {
        "id": "eNVe2sZ08uL8"
      },
      "execution_count": 2,
      "outputs": []
    },
    {
      "cell_type": "code",
      "source": [
        "\n",
        "X = np.array([[1, 2], [1.5, 1.8], [5, 8], [8, 8], [1, 0.6], [9, 11]])\n",
        "\n",
        "transformed_data, principal_components, eigenvalues = pca(X, n_components=2)\n",
        "\n",
        "print(\"Original Data:\\n\", X)\n",
        "print(\"\\nTransformed Data:\\n\", transformed_data)\n",
        "print(\"\\nPrincipal Components:\\n\", principal_components)\n",
        "print(\"\\nEigenvalues:\\n\", eigenvalues)"
      ],
      "metadata": {
        "colab": {
          "base_uri": "https://localhost:8080/"
        },
        "id": "A0xuxr1E81cK",
        "outputId": "313c394d-eb84-40f4-8985-d81790026805"
      },
      "execution_count": 3,
      "outputs": [
        {
          "output_type": "stream",
          "name": "stdout",
          "text": [
            "Original Data:\n",
            " [[ 1.   2. ]\n",
            " [ 1.5  1.8]\n",
            " [ 5.   8. ]\n",
            " [ 8.   8. ]\n",
            " [ 1.   0.6]\n",
            " [ 9.  11. ]]\n",
            "\n",
            "Transformed Data:\n",
            " [[ 4.56593385  0.41133014]\n",
            " [ 4.39775256 -0.10025079]\n",
            " [-2.60148885  1.20382731]\n",
            " [-4.52983542 -1.09431966]\n",
            " [ 5.63840244 -0.48856492]\n",
            " [-7.47076458  0.06797792]]\n",
            "\n",
            "Principal Components:\n",
            " [[-0.64278219 -0.76604899]\n",
            " [-0.76604899  0.64278219]]\n",
            "\n",
            "Eigenvalues:\n",
            " [25.84650637  0.51154918]\n"
          ]
        }
      ]
    }
  ]
}