{
  "nbformat": 4,
  "nbformat_minor": 0,
  "metadata": {
    "colab": {
      "provenance": [],
      "authorship_tag": "ABX9TyMrRVqI+KCrT+LTkL+wlrRL",
      "include_colab_link": true
    },
    "kernelspec": {
      "name": "python3",
      "display_name": "Python 3"
    },
    "language_info": {
      "name": "python"
    }
  },
  "cells": [
    {
      "cell_type": "markdown",
      "metadata": {
        "id": "view-in-github",
        "colab_type": "text"
      },
      "source": [
        "<a href=\"https://colab.research.google.com/github/vruddhis/sem6/blob/main/compilerDesign/dag.ipynb\" target=\"_parent\"><img src=\"https://colab.research.google.com/assets/colab-badge.svg\" alt=\"Open In Colab\"/></a>"
      ]
    },
    {
      "cell_type": "code",
      "execution_count": 23,
      "metadata": {
        "id": "ZYoKr8VbfjOk"
      },
      "outputs": [],
      "source": [
        "from typing import Dict, List, Tuple\n",
        "import graphviz\n",
        "\n",
        "dot = graphviz.Digraph('expression')\n",
        "\n",
        "class Node:\n",
        "    def __init__(self, val, left=None, right=None):\n",
        "        self.val = val\n",
        "        self.label = str(id(self))\n",
        "\n",
        "        if left is None and right is None:\n",
        "            self.leaf = True\n",
        "        if left is not None:\n",
        "            dot.edge(self.label, left.label)\n",
        "        if right is not None:\n",
        "            dot.edge(self.label, right.label)\n",
        "        self.left = left\n",
        "        self.right = right\n",
        "        dot.node(self.label, str(self.val))\n",
        "        print(\"Made new node \", self.val)\n",
        "\n",
        "def find_parantheses(expression: str) -> Tuple[int, int]:\n",
        "    stack = []\n",
        "    for index, char in enumerate(expression):\n",
        "        if char == '(':\n",
        "            stack.append(index)\n",
        "        elif char == ')':\n",
        "            if stack:\n",
        "                start_index = stack.pop()\n",
        "                if not stack:\n",
        "                    return (start_index, index)\n",
        "    return None\n",
        "\n",
        "already_computed: Dict[str, Node] = {}\n",
        "\n",
        "def make_dag(expression: str) -> Node:\n",
        "    subtrees: List[Node] = []\n",
        "\n",
        "    while (paren_indices := find_parantheses(expression)) is not None:\n",
        "        start_index, end_index = paren_indices\n",
        "        subtrees.append(make_dag(expression[start_index + 1: end_index]))\n",
        "        expression = expression[:start_index] + str(len(subtrees) - 1) + expression[end_index + 1:]\n",
        "        print(expression)\n",
        "\n",
        "    operators = ['/', '*', '+', '-']\n",
        "    for op in operators:\n",
        "        while op in expression:\n",
        "            index = expression.find(op)\n",
        "\n",
        "            left_index = index - 1\n",
        "            if expression[left_index].isdigit():\n",
        "               while left_index >= 0 and expression[left_index].isdigit():\n",
        "                    left_index -= 1\n",
        "               left_index += 1\n",
        "\n",
        "            right_index = index + 1\n",
        "            if expression[right_index].isdigit():\n",
        "               while right_index < len(expression) and expression[right_index].isdigit():\n",
        "                  right_index += 1\n",
        "               right_index -= 1\n",
        "\n",
        "            left_part = expression[left_index:index]\n",
        "            right_part = expression[index + 1:right_index + 1]\n",
        "\n",
        "            print(left_part, right_part)\n",
        "            if left_part.isdigit():\n",
        "                left_child = subtrees[int(left_part)]\n",
        "            else:\n",
        "                if left_part not in already_computed:\n",
        "                    already_computed[left_part] = Node(left_part)\n",
        "                left_child = already_computed[left_part]\n",
        "\n",
        "            if right_part.isdigit():\n",
        "                right_child = subtrees[int(right_part)]\n",
        "            else:\n",
        "                if right_part not in already_computed:\n",
        "                    already_computed[right_part] = Node(right_part)\n",
        "                right_child = already_computed[right_part]\n",
        "\n",
        "            if left_part + op + right_part in already_computed:\n",
        "                root = already_computed[left_part + op + right_part]\n",
        "            else:\n",
        "                root = Node(val=op, left=left_child, right=right_child)\n",
        "                already_computed[left_part + op + right_part] = root\n",
        "\n",
        "            subtrees.append(root)\n",
        "            expression = expression[:left_index] + str(len(subtrees) - 1) + expression[right_index + 1:]\n",
        "            print(expression)\n",
        "\n",
        "    if expression.isdigit():\n",
        "        return subtrees[int(expression)]\n",
        "    else:\n",
        "        if expression not in already_computed:\n",
        "            already_computed[expression] = Node(expression)\n",
        "        return already_computed[expression]\n",
        "\n",
        "\n",
        "#okay so this works great but what's with the plus without any parents?????????????\n"
      ]
    },
    {
      "cell_type": "code",
      "source": [
        "expression = \"(a+b+c)/b+c*a-d+(a+b+c)\"\n",
        "tree = make_dag(expression)"
      ],
      "metadata": {
        "colab": {
          "base_uri": "https://localhost:8080/"
        },
        "id": "dhuQ4Kvyfm6E",
        "outputId": "326a994c-3f8a-4871-a960-326325788d8a"
      },
      "execution_count": 24,
      "outputs": [
        {
          "output_type": "stream",
          "name": "stdout",
          "text": [
            "a b\n",
            "Made new node  a\n",
            "Made new node  b\n",
            "Made new node  +\n",
            "0+c\n",
            "0 c\n",
            "Made new node  c\n",
            "Made new node  +\n",
            "1\n",
            "0/b+c*a-d+(a+b+c)\n",
            "a b\n",
            "0+c\n",
            "0 c\n",
            "1\n",
            "0/b+c*a-d+1\n",
            "0 b\n",
            "Made new node  /\n",
            "2+c*a-d+1\n",
            "c a\n",
            "Made new node  *\n",
            "2+3-d+1\n",
            "2 3\n",
            "Made new node  +\n",
            "4-d+1\n",
            "d 1\n",
            "Made new node  d\n",
            "Made new node  +\n",
            "4-5\n",
            "4 5\n",
            "Made new node  -\n",
            "6\n"
          ]
        }
      ]
    },
    {
      "cell_type": "code",
      "source": [
        "dot.render('dag', format='png', view=True)"
      ],
      "metadata": {
        "colab": {
          "base_uri": "https://localhost:8080/",
          "height": 35
        },
        "id": "Ce_0VzHKf0Yc",
        "outputId": "10d7892d-7c7a-4338-e026-a0baf0ae82dc"
      },
      "execution_count": 25,
      "outputs": [
        {
          "output_type": "execute_result",
          "data": {
            "text/plain": [
              "'dag.png'"
            ],
            "application/vnd.google.colaboratory.intrinsic+json": {
              "type": "string"
            }
          },
          "metadata": {},
          "execution_count": 25
        }
      ]
    }
  ]
}