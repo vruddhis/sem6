{
  "nbformat": 4,
  "nbformat_minor": 0,
  "metadata": {
    "colab": {
      "provenance": [],
      "authorship_tag": "ABX9TyO8865g9EKTEv66ywupYRuS",
      "include_colab_link": true
    },
    "kernelspec": {
      "name": "python3",
      "display_name": "Python 3"
    },
    "language_info": {
      "name": "python"
    }
  },
  "cells": [
    {
      "cell_type": "markdown",
      "metadata": {
        "id": "view-in-github",
        "colab_type": "text"
      },
      "source": [
        "<a href=\"https://colab.research.google.com/github/vruddhis/sem6/blob/main/compilerDesign/dag.ipynb\" target=\"_parent\"><img src=\"https://colab.research.google.com/assets/colab-badge.svg\" alt=\"Open In Colab\"/></a>"
      ]
    },
    {
      "cell_type": "code",
      "execution_count": 7,
      "metadata": {
        "id": "ZYoKr8VbfjOk"
      },
      "outputs": [],
      "source": [
        "from typing import Dict, List, Set, Tuple\n",
        "\n",
        "#grammar for arithmetic expression with (), +, -, *, / assumed\n",
        "#ignore unary for now\n",
        "import graphviz\n",
        "\n",
        "dot = graphviz.Digraph('expression')\n",
        "\n",
        "class Node:\n",
        "    def __init__(self, val, left=None, right=None):\n",
        "        self.val = val\n",
        "        self.label = str(id(self))\n",
        "\n",
        "        if left is None and right is None:\n",
        "            self.leaf = True\n",
        "        if left is not None:\n",
        "            dot.edge(self.label, left.label)\n",
        "        if right is not None:\n",
        "            dot.edge(self.label, right.label)\n",
        "        self.left = left\n",
        "        self.right = right\n",
        "        dot.node(self.label, str(self.val))\n",
        "\n",
        "def find_parantheses(expression):\n",
        "    stack = []\n",
        "    for index, char in enumerate(expression):\n",
        "        if char == '(':\n",
        "            stack.append(index)\n",
        "        elif char == ')':\n",
        "            if stack:\n",
        "                start_index = stack.pop()\n",
        "                if not stack:\n",
        "                    return (start_index, index)\n",
        "    return None\n",
        "\n",
        "leaves = {}\n",
        "\n",
        "def make_dag(expression):\n",
        "    subtrees = []\n",
        "\n",
        "    while (paren_indices := find_parantheses(expression)) is not None:\n",
        "        start_index, end_index = paren_indices\n",
        "        subtrees.append(make_dag(expression[start_index + 1: end_index]))\n",
        "        expression = expression[:start_index] + str(len(subtrees) - 1) + expression[end_index + 1:]\n",
        "        print(expression)\n",
        "\n",
        "    operators = ['/', '*', '+', '-']\n",
        "    for op in operators:\n",
        "        while op in expression:\n",
        "            index = expression.find(op)\n",
        "\n",
        "            left_index = index - 1\n",
        "            if expression[left_index].isdigit():\n",
        "               while left_index >= 0 and expression[left_index].isdigit():\n",
        "                    left_index -= 1\n",
        "               left_index += 1\n",
        "\n",
        "\n",
        "            right_index = index + 1\n",
        "            if expression[right_index].isdigit():\n",
        "               while right_index < len(expression) and expression[right_index].isdigit():\n",
        "                  right_index += 1\n",
        "               right_index -= 1\n",
        "\n",
        "            left_part = expression[left_index:index]\n",
        "            right_part = expression[index + 1:right_index + 1]\n",
        "\n",
        "            print(left_part, right_part)\n",
        "            if left_part.isdigit():\n",
        "                left_child = subtrees[int(left_part)]\n",
        "            else:\n",
        "                if left_part not in leaves:\n",
        "                    leaves[left_part] = Node(left_part)\n",
        "                left_child = leaves[left_part]\n",
        "\n",
        "            if right_part.isdigit():\n",
        "                right_child = subtrees[int(right_part)]\n",
        "            else:\n",
        "                if right_part not in leaves:\n",
        "                    leaves[right_part] = Node(right_part)\n",
        "                right_child = leaves[right_part]\n",
        "\n",
        "            root = Node(val=op, left=left_child, right=right_child)\n",
        "            subtrees.append(root)\n",
        "\n",
        "            expression = expression[:left_index] + str(len(subtrees) - 1) + expression[right_index + 1:]\n",
        "            print(expression)\n",
        "\n",
        "    if expression.isdigit():\n",
        "        return subtrees[int(expression)]\n",
        "    else:\n",
        "        if expression not in leaves:\n",
        "            leaves[expression] = Node(expression)\n",
        "        return leaves[expression]\n",
        "\n",
        "\n",
        "\n",
        "\n",
        ""
      ]
    },
    {
      "cell_type": "code",
      "source": [
        "expression = \"(a+b)/b+c*a-d+(a+b)\"\n",
        "tree = make_dag(expression)"
      ],
      "metadata": {
        "colab": {
          "base_uri": "https://localhost:8080/"
        },
        "id": "dhuQ4Kvyfm6E",
        "outputId": "2908c04c-5296-49b4-95f8-7063be179c65"
      },
      "execution_count": 10,
      "outputs": [
        {
          "output_type": "stream",
          "name": "stdout",
          "text": [
            "a b\n",
            "0\n",
            "0/b+c*a-d+(a+b)\n",
            "a b\n",
            "0\n",
            "0/b+c*a-d+1\n",
            "0 b\n",
            "2+c*a-d+1\n",
            "c a\n",
            "2+3-d+1\n",
            "2 3\n",
            "4-d+1\n",
            "d 1\n",
            "4-5\n",
            "4 5\n",
            "6\n"
          ]
        }
      ]
    },
    {
      "cell_type": "code",
      "source": [
        "dot.render()\n"
      ],
      "metadata": {
        "colab": {
          "base_uri": "https://localhost:8080/",
          "height": 36
        },
        "id": "Ce_0VzHKf0Yc",
        "outputId": "eab62b8b-c762-45f4-9f18-d241f6e66439"
      },
      "execution_count": 11,
      "outputs": [
        {
          "output_type": "execute_result",
          "data": {
            "text/plain": [
              "'expression.gv.pdf'"
            ],
            "application/vnd.google.colaboratory.intrinsic+json": {
              "type": "string"
            }
          },
          "metadata": {},
          "execution_count": 11
        }
      ]
    }
  ]
}