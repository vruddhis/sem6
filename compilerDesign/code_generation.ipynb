{
  "nbformat": 4,
  "nbformat_minor": 0,
  "metadata": {
    "colab": {
      "provenance": [],
      "authorship_tag": "ABX9TyO6wmfeZ3kh6yM5rBBX6ah7",
      "include_colab_link": true
    },
    "kernelspec": {
      "name": "python3",
      "display_name": "Python 3"
    },
    "language_info": {
      "name": "python"
    }
  },
  "cells": [
    {
      "cell_type": "markdown",
      "metadata": {
        "id": "view-in-github",
        "colab_type": "text"
      },
      "source": [
        "<a href=\"https://colab.research.google.com/github/vruddhis/sem6/blob/main/compilerDesign/code_generation.ipynb\" target=\"_parent\"><img src=\"https://colab.research.google.com/assets/colab-badge.svg\" alt=\"Open In Colab\"/></a>"
      ]
    },
    {
      "cell_type": "code",
      "execution_count": 34,
      "metadata": {
        "id": "RaztJG_jvX2R"
      },
      "outputs": [],
      "source": [
        "def remove_whitespace(tac):\n",
        "  tac = tac.split()\n",
        "  tac = ''.join(tac)\n",
        "  return tac\n",
        "\n",
        "\n",
        "def tac_to_code(tac, reg, addr):\n",
        "  tac = remove_whitespace(tac)\n",
        "  if len(tac) == 5:\n",
        "    res = tac[0]\n",
        "    if tac[1] != '=':\n",
        "      print(\"unvalid\")\n",
        "      return -1\n",
        "    op1 = tac[2]\n",
        "    op = tac[3]\n",
        "    op2 = tac[4]\n",
        "    operators = {'+': 'ADD', '-': 'SUB', '*': 'MUL', '/': 'DIV'}\n",
        "    ans = ''\n",
        "    cmd = ''\n",
        "    ans += operators[op]\n",
        "    if op1 in reg:\n",
        "      ans += ' '\n",
        "      ans += reg[op1]\n",
        "    else:\n",
        "      if reg[0] != -1:\n",
        "        addr.append(reg[0])\n",
        "        cmd += 'MOV ['+ str(len(addr)) + '], R0'\n",
        "        inner_var[reg[0]] = '['+ str(len(addr)) + ']'\n",
        "      reg[0] = op1\n",
        "      if reg[0] in inner_var:\n",
        "        cmd += 'MOV R0, ' + inner_var[reg[0]]\n",
        "      else:\n",
        "        cmd += 'MOV R0, ' + reg[0]\n",
        "      ans += ' '\n",
        "      ans += 'R0'\n",
        "    ans += ', '\n",
        "    if op2 in reg:\n",
        "      ans += reg[op2]\n",
        "    else:\n",
        "      if op2 in inner_var:\n",
        "        ans += inner_var[op2]\n",
        "      else:\n",
        "        ans += op2\n",
        "    reg[0] = res\n",
        "    inner_var[res] = reg[0]\n",
        "    return cmd + '\\n' +  ans, reg, addr"
      ]
    },
    {
      "cell_type": "code",
      "source": [
        "reg = [-1, -1]\n",
        "addr = []\n",
        "inner_var = {}\n",
        "print(tac_to_code('a=b+c', reg, addr))\n"
      ],
      "metadata": {
        "colab": {
          "base_uri": "https://localhost:8080/"
        },
        "id": "1xPkdZLfX-7K",
        "outputId": "ed385fc2-324b-463f-be53-aa3c63f6eed1"
      },
      "execution_count": 35,
      "outputs": [
        {
          "output_type": "stream",
          "name": "stdout",
          "text": [
            "('MOV R0, b\\nADD R0, c', ['a', -1], [])\n"
          ]
        }
      ]
    },
    {
      "cell_type": "code",
      "source": [
        "def code_block_to_tac(block):\n",
        "  reg = [-1, -1]\n",
        "  addr = []\n",
        "  for line in block:\n",
        "    print(tac_to_code(line, reg, addr))"
      ],
      "metadata": {
        "id": "kppzOTgAYyu_"
      },
      "execution_count": 36,
      "outputs": []
    },
    {
      "cell_type": "code",
      "source": [
        "code_block_to_tac(['x=a+b', 'y=c + d', 'z = x - y'])"
      ],
      "metadata": {
        "colab": {
          "base_uri": "https://localhost:8080/"
        },
        "id": "nNNyIOk6ZM-e",
        "outputId": "6a4e9d70-f356-44b5-9a8f-2914de134ad9"
      },
      "execution_count": 37,
      "outputs": [
        {
          "output_type": "stream",
          "name": "stdout",
          "text": [
            "('MOV R0, a\\nADD R0, b', ['x', -1], [])\n",
            "('MOV [1], R0MOV R0, c\\nADD R0, d', ['y', -1], ['x'])\n",
            "('MOV [2], R0MOV R0, [1]\\nSUB R0, [2]', ['z', -1], ['x', 'y'])\n"
          ]
        }
      ]
    }
  ]
}